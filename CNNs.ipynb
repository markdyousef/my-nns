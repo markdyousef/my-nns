{
 "cells": [
  {
   "cell_type": "markdown",
   "metadata": {},
   "source": [
    "## CNN Architecture\n",
    "<img src=\"img/cnn_arch.png\" >"
   ]
  },
  {
   "cell_type": "markdown",
   "metadata": {},
   "source": [
    "## Conv Layer\n",
    "Accepts a volume size of: X = (W1 * H1 * D1)\n",
    "\n",
    "|\n",
    "\n",
    "Requires 4 hyperparameters:\n",
    "* Number of filters (K)\n",
    "* their spatial extent (F)\n",
    "* the stride (S)\n",
    "* the amount of zero padding (P)\n",
    "\n",
    "|\n",
    "\n",
    "Produces a volume size (W2 * H2 * D2):\n",
    "* W2 = (W1 - F + 2P)/S + 1\n",
    "* H2 = (H1 - F + 2P)/S + 1\n",
    "\n",
    "|\n",
    "\n",
    "With parameter sharing, it introduces **`(F*F*D1)`** weights per filter,\n",
    "for total of **`(F*F*D1)*K`** weights and **K** biases\n",
    "\n",
    "|\n",
    "\n",
    "In the output volume (V), the **d-th** depth slice is the result of performing a valid convolution of **d-th** filter over the input volume (X)\n",
    "\n",
    "    \n"
   ]
  },
  {
   "cell_type": "markdown",
   "metadata": {
    "collapsed": true
   },
   "source": [
    "### Numpy example\n",
    "\n",
    "* **input volume** X [w,h,d]\n",
    "* **depth column** (fibre) at position (w,h): X[w,h,:]\n",
    "* **depth slice**, or activation map at depth d: X[:,:,d]"
   ]
  },
  {
   "cell_type": "code",
   "execution_count": 159,
   "metadata": {
    "collapsed": true
   },
   "outputs": [],
   "source": [
    "%matplotlib inline"
   ]
  },
  {
   "cell_type": "code",
   "execution_count": 160,
   "metadata": {
    "collapsed": false
   },
   "outputs": [
    {
     "data": {
      "text/plain": [
       "<matplotlib.figure.Figure at 0x110205ac8>"
      ]
     },
     "metadata": {},
     "output_type": "display_data"
    }
   ],
   "source": [
    "import numpy as np\n",
    "from random import randint\n",
    "import matplotlib.pyplot as plt\n",
    "from mpl_toolkits.mplot3d import Axes3D\n",
    "fig = plt.figure()\n",
    "\n",
    "# Hyperparameters\n",
    "P = 0 # zero padding\n",
    "F = 5 # filter size\n",
    "S = 2 # stride\n",
    "K = 5 # depth\n",
    "\n",
    "# Input volume\n",
    "X = np.random.rand(11, 11, 4)\n",
    "\n",
    "# Spatial size of output volume\n",
    "size = int((X.shape[0] - F + 2*P) / S + 1)\n",
    "# output volume\n",
    "V = np.random.rand(size, size, K)\n",
    "\n",
    "# weights and biases\n",
    "W0 = np.random.rand(F, F, size) # weights\n",
    "b0 = randint(0,9) # bias"
   ]
  },
  {
   "cell_type": "code",
   "execution_count": 184,
   "metadata": {
    "collapsed": false
   },
   "outputs": [
    {
     "data": {
      "text/plain": [
       "(11, 11, 4)"
      ]
     },
     "execution_count": 184,
     "metadata": {},
     "output_type": "execute_result"
    }
   ],
   "source": [
    "# Input volume: [w, h, d]\n",
    "X.shape"
   ]
  },
  {
   "cell_type": "code",
   "execution_count": 185,
   "metadata": {
    "collapsed": false
   },
   "outputs": [
    {
     "data": {
      "text/plain": [
       "(4, 4, 5)"
      ]
     },
     "execution_count": 185,
     "metadata": {},
     "output_type": "execute_result"
    }
   ],
   "source": [
    "# Output volume: [w, h, d]\n",
    "V.shape"
   ]
  },
  {
   "cell_type": "code",
   "execution_count": 187,
   "metadata": {
    "collapsed": false
   },
   "outputs": [
    {
     "data": {
      "text/plain": [
       "(5, 5, 4)"
      ]
     },
     "execution_count": 187,
     "metadata": {},
     "output_type": "execute_result"
    }
   ],
   "source": [
    " W0.shape"
   ]
  },
  {
   "cell_type": "code",
   "execution_count": 190,
   "metadata": {
    "collapsed": false
   },
   "outputs": [],
   "source": [
    "# don't generate random numbers\n",
    "X = X\n",
    "W0 = W0\n",
    "b0 = b0\n",
    "\n",
    "# Activation map in output volume(V)\n",
    "# going along w: [w, h, d]\n",
    "V[0,0,0] = np.sum(X[:5,:5,:] * W0) + b0\n",
    "V[1,0,0] = np.sum(X[2:7,:5,:] * W0) + b0\n",
    "V[2,0,0] = np.sum(X[4:9,:5,:] * W0) + b0\n",
    "V[3,0,0] = np.sum(X[6:11,:5,:] * W0) + b0"
   ]
  },
  {
   "cell_type": "code",
   "execution_count": null,
   "metadata": {
    "collapsed": false
   },
   "outputs": [],
   "source": []
  },
  {
   "cell_type": "code",
   "execution_count": null,
   "metadata": {
    "collapsed": true
   },
   "outputs": [],
   "source": []
  }
 ],
 "metadata": {
  "kernelspec": {
   "display_name": "Python 3",
   "language": "python",
   "name": "python3"
  },
  "language_info": {
   "codemirror_mode": {
    "name": "ipython",
    "version": 3
   },
   "file_extension": ".py",
   "mimetype": "text/x-python",
   "name": "python",
   "nbconvert_exporter": "python",
   "pygments_lexer": "ipython3",
   "version": "3.6.0"
  }
 },
 "nbformat": 4,
 "nbformat_minor": 2
}
