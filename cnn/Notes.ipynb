{
 "cells": [
  {
   "cell_type": "markdown",
   "metadata": {},
   "source": [
    "# Implementation notes"
   ]
  },
  {
   "cell_type": "code",
   "execution_count": 84,
   "metadata": {
    "collapsed": false
   },
   "outputs": [],
   "source": [
    "import numpy as np\n",
    "from layer_test import eval_numerical_gradient_array\n",
    "from layer import affine_forward"
   ]
  },
  {
   "cell_type": "markdown",
   "metadata": {},
   "source": [
    "## Affine layer"
   ]
  },
  {
   "cell_type": "markdown",
   "metadata": {},
   "source": [
    "### forward"
   ]
  },
  {
   "cell_type": "code",
   "execution_count": 2,
   "metadata": {
    "collapsed": false
   },
   "outputs": [],
   "source": [
    "num_inputs = 2\n",
    "input_shape = (4, 5, 6)\n",
    "output_dim = 3"
   ]
  },
  {
   "cell_type": "code",
   "execution_count": 28,
   "metadata": {
    "collapsed": false
   },
   "outputs": [
    {
     "name": "stdout",
     "output_type": "stream",
     "text": [
      "input size 240, weight size 360\n"
     ]
    }
   ],
   "source": [
    "input_size = num_inputs * np.prod(input_shape)\n",
    "weight_size = output_dim * np.prod(input_shape)\n",
    "print('input size {}, weight size {}'.format(input_size, weight_size))"
   ]
  },
  {
   "cell_type": "code",
   "execution_count": 122,
   "metadata": {
    "collapsed": false
   },
   "outputs": [
    {
     "name": "stdout",
     "output_type": "stream",
     "text": [
      "x (2, 4, 5, 6), w (120, 3), b (3,)\n"
     ]
    }
   ],
   "source": [
    "# (N, d_1, ..., d_k)\n",
    "x = np.linspace(-0.1, 0.5, num=input_size).reshape(num_inputs, *input_shape)\n",
    "# (D, M)\n",
    "w = np.linspace(-0.2, 0.3, num=weight_size).reshape(np.product(input_shape), output_dim)\n",
    "# (M,)\n",
    "b = np.linspace(-0.3, 0.1, num=output_dim)\n",
    "print('x {}, w {}, b {}'.format(x.shape, w.shape, b.shape))"
   ]
  },
  {
   "cell_type": "code",
   "execution_count": 124,
   "metadata": {
    "collapsed": false
   },
   "outputs": [],
   "source": [
    "# A simple linear feedforward\n",
    "N = x.shape[0]\n",
    "# (2, 4, 5, 6) -> (2, 120)(120, 3) + (3,)\n",
    "output = x.reshape([N, -1]).dot(w) + b"
   ]
  },
  {
   "cell_type": "markdown",
   "metadata": {},
   "source": [
    "### backward"
   ]
  },
  {
   "cell_type": "code",
   "execution_count": 96,
   "metadata": {
    "collapsed": false
   },
   "outputs": [],
   "source": [
    "np.random.seed(231)\n",
    "# (N, d_1, ..., d_k)\n",
    "x = np.random.randn(10, 2, 3)\n",
    "# (D, M)\n",
    "w = np.random.randn(6, 5)\n",
    "# (M)\n",
    "b = np.random.randn(5)\n",
    "# (N, M)\n",
    "d_output = np.random.randn(10, 5)"
   ]
  },
  {
   "cell_type": "code",
   "execution_count": 120,
   "metadata": {
    "collapsed": false
   },
   "outputs": [],
   "source": [
    "N = d_output.shape[0]\n",
    "# (10, 5)(5, 6) = (10, 6) -> (10, 2, 3)\n",
    "d_x = d_output.dot(w.T).reshape(x.shape)\n",
    "# -> (6, 10)(10, 5) = (6,5)\n",
    "d_w = x.reshape([N, -1]).T.dot(d_output)\n",
    "# (10, 5) => (5,)\n",
    "d_b = np.sum(d_output, axis=0)"
   ]
  },
  {
   "cell_type": "markdown",
   "metadata": {},
   "source": [
    "## ReLU layer"
   ]
  },
  {
   "cell_type": "markdown",
   "metadata": {},
   "source": [
    "### forward"
   ]
  },
  {
   "cell_type": "code",
   "execution_count": 126,
   "metadata": {
    "collapsed": false
   },
   "outputs": [
    {
     "name": "stdout",
     "output_type": "stream",
     "text": [
      "[[-0.5        -0.40909091 -0.31818182 -0.22727273]\n",
      " [-0.13636364 -0.04545455  0.04545455  0.13636364]\n",
      " [ 0.22727273  0.31818182  0.40909091  0.5       ]]\n"
     ]
    }
   ],
   "source": [
    "x = np.linspace(-0.5, 0.5, num=12).reshape(3, 4)\n",
    "print(x)"
   ]
  },
  {
   "cell_type": "code",
   "execution_count": 128,
   "metadata": {
    "collapsed": false
   },
   "outputs": [
    {
     "data": {
      "text/plain": [
       "array([[ 0.        ,  0.        ,  0.        ,  0.        ],\n",
       "       [ 0.        ,  0.        ,  0.04545455,  0.13636364],\n",
       "       [ 0.22727273,  0.31818182,  0.40909091,  0.5       ]])"
      ]
     },
     "execution_count": 128,
     "metadata": {},
     "output_type": "execute_result"
    }
   ],
   "source": [
    "output = np.fmax(x, 0)\n",
    "output"
   ]
  },
  {
   "cell_type": "markdown",
   "metadata": {},
   "source": [
    "### backward"
   ]
  },
  {
   "cell_type": "code",
   "execution_count": 140,
   "metadata": {
    "collapsed": false
   },
   "outputs": [
    {
     "data": {
      "text/plain": [
       "array([[ 0.78149404,  0.58420912,  0.42671007,  0.31534469,  0.82688829,\n",
       "         0.90342948,  0.03893811,  0.9152226 ,  0.0605054 ,  0.18072686],\n",
       "       [ 0.07229972,  0.45876213,  0.70835907,  0.48323507,  0.02544653,\n",
       "         0.06690243,  0.42587801,  0.21924753,  0.81013282,  0.14005397],\n",
       "       [ 0.7511994 ,  0.27910319,  0.94910551,  0.88502136,  0.61016226,\n",
       "         0.7791191 ,  0.04155608,  0.78641275,  0.90247651,  0.43299087],\n",
       "       [ 0.88658373,  0.54854139,  0.98697656,  0.56530906,  0.90103568,\n",
       "         0.56373797,  0.09589743,  0.61752115,  0.06001465,  0.58039436],\n",
       "       [ 0.87168015,  0.79984038,  0.06665333,  0.0601503 ,  0.89930015,\n",
       "         0.64367389,  0.66795862,  0.10014901,  0.64597798,  0.04273061],\n",
       "       [ 0.61705425,  0.26200791,  0.71747807,  0.99686535,  0.25998108,\n",
       "         0.31931504,  0.15587636,  0.00868051,  0.4974258 ,  0.23329013],\n",
       "       [ 0.10843416,  0.94530803,  0.89117147,  0.27868291,  0.82618052,\n",
       "         0.44884675,  0.02227444,  0.9040584 ,  0.63903979,  0.61194431],\n",
       "       [ 0.58690115,  0.33442624,  0.25868528,  0.38639359,  0.53208232,\n",
       "         0.97190246,  0.9393489 ,  0.11404842,  0.96994953,  0.54371376],\n",
       "       [ 0.46915797,  0.43302514,  0.22163124,  0.31313611,  0.90467419,\n",
       "         0.96917187,  0.54734658,  0.31661094,  0.28269245,  0.62735394],\n",
       "       [ 0.14698649,  0.44126775,  0.47043672,  0.34803963,  0.66481471,\n",
       "         0.94338253,  0.31613266,  0.10135254,  0.28110943,  0.06184845]])"
      ]
     },
     "execution_count": 140,
     "metadata": {},
     "output_type": "execute_result"
    }
   ],
   "source": [
    "np.random.seed(231)\n",
    "x = np.random.rand(10, 10)\n",
    "d_output = np.random.rand(*x.shape)\n",
    "x"
   ]
  },
  {
   "cell_type": "code",
   "execution_count": 141,
   "metadata": {
    "collapsed": false
   },
   "outputs": [
    {
     "data": {
      "text/plain": [
       "array([[ 0.76154896,  0.91196687,  0.78012778,  0.0426785 ,  0.09628379,\n",
       "         0.96360132,  0.18255639,  0.42268435,  0.09856554,  0.39204418],\n",
       "       [ 0.37009128,  0.17598795,  0.81255037,  0.15599316,  0.37459224,\n",
       "         0.86791336,  0.09155779,  0.67419831,  0.51670093,  0.4308584 ],\n",
       "       [ 0.51812879,  0.14569743,  0.45788877,  0.25368625,  0.31532703,\n",
       "         0.4304745 ,  0.39769089,  0.9519803 ,  0.54986659,  0.12407137],\n",
       "       [ 0.88699947,  0.88812986,  0.16012489,  0.43573028,  0.62325211,\n",
       "         0.07705074,  0.02586914,  0.53237291,  0.05385741,  0.68296149],\n",
       "       [ 0.20119076,  0.83558642,  0.11182925,  0.36794226,  0.9120864 ,\n",
       "         0.4477751 ,  0.26554136,  0.2986834 ,  0.74768716,  0.08348653],\n",
       "       [ 0.81137312,  0.39549242,  0.30543642,  0.20260782,  0.98372077,\n",
       "         0.48823249,  0.17551912,  0.5949902 ,  0.69293361,  0.39953139],\n",
       "       [ 0.53414021,  0.40751671,  0.54006139,  0.13837955,  0.22913498,\n",
       "         0.07316323,  0.90060281,  0.1759985 ,  0.89162986,  0.95187233],\n",
       "       [ 0.46741904,  0.4512523 ,  0.6176417 ,  0.43521527,  0.26861248,\n",
       "         0.74337457,  0.07094543,  0.58158769,  0.4730915 ,  0.05491095],\n",
       "       [ 0.33922618,  0.22428096,  0.37612373,  0.95794971,  0.3448939 ,\n",
       "         0.54539387,  0.28226922,  0.4131902 ,  0.5687149 ,  0.32953763],\n",
       "       [ 0.43846751,  0.64789432,  0.29939667,  0.5462986 ,  0.5224648 ,\n",
       "         0.88728113,  0.60433305,  0.87000497,  0.65842226,  0.50885797]])"
      ]
     },
     "execution_count": 141,
     "metadata": {},
     "output_type": "execute_result"
    }
   ],
   "source": [
    "x = np.fmax(x, 0)\n",
    "d_x = np.sign(x) * d_output\n",
    "d_x"
   ]
  },
  {
   "cell_type": "code",
   "execution_count": null,
   "metadata": {
    "collapsed": true
   },
   "outputs": [],
   "source": []
  }
 ],
 "metadata": {
  "kernelspec": {
   "display_name": "Python 3",
   "language": "python",
   "name": "python3"
  },
  "language_info": {
   "codemirror_mode": {
    "name": "ipython",
    "version": 3
   },
   "file_extension": ".py",
   "mimetype": "text/x-python",
   "name": "python",
   "nbconvert_exporter": "python",
   "pygments_lexer": "ipython3",
   "version": "3.6.0"
  }
 },
 "nbformat": 4,
 "nbformat_minor": 2
}
